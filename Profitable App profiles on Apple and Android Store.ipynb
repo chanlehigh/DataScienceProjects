{
 "cells": [
  {
   "cell_type": "markdown",
   "metadata": {},
   "source": [
    "# Profitable App Profiles on Apple and Android Store"
   ]
  },
  {
   "cell_type": "markdown",
   "metadata": {},
   "source": [
    "*Goal of this project is to analyze data to help the developers understand the profile of the apps that are likely to attract more users. Most of the apps are free to download so main source of revenue comes from in-app ads. The more number of users engage and see the ads, the more revenue flows in.*"
   ]
  },
  {
   "cell_type": "markdown",
   "metadata": {},
   "source": [
    "## Exploring the data"
   ]
  },
  {
   "cell_type": "markdown",
   "metadata": {},
   "source": [
    "*As of Sep 2018, there were 2 million iOS apps available on Apple Store and 2.1 million Android Apps open on Google Play Store. These datasets are a sample of the apps data. Google Play Store data contains about 10800 apps data and Apple Store data contains about 7500 apps data.*"
   ]
  },
  {
   "cell_type": "code",
   "execution_count": 4,
   "metadata": {},
   "outputs": [],
   "source": [
    "# Open Apple Store data \n",
    "from csv import reader\n",
    "opened_file= open('AppleStoreData.csv',encoding='UTF-8') #Important to specify the encoding of the Input file\n",
    "read_file = reader(opened_file)\n",
    "ios_data = list(read_file)\n",
    "ios_header=ios_data[0] # Specify header of ios data\n",
    "ios = ios_data[1:] # All the ios data except for the header "
   ]
  },
  {
   "cell_type": "code",
   "execution_count": 5,
   "metadata": {},
   "outputs": [],
   "source": [
    "# Open Google Play Store data \n",
    "from csv import reader\n",
    "opened_file= open('googleplaystore.csv',encoding='UTF-8') #Important to specify the encoding of the Input file\n",
    "read_file = reader(opened_file)\n",
    "playstore_data = list(read_file)\n",
    "android_header=playstore_data[0] # Specify header of ios data\n",
    "android = playstore_data[1:] # All the ios data except for the header "
   ]
  },
  {
   "cell_type": "code",
   "execution_count": 6,
   "metadata": {},
   "outputs": [],
   "source": [
    "#Creating a explore data function \n",
    "def explore_data(dataset,start,end,rows_columns = False):\n",
    "    dataset_slice=dataset[start:end]\n",
    "    for row in dataset_slice:\n",
    "        print(row)\n",
    "        print('\\n') # Adds a new empty line after each row\n",
    "    if rows_columns:\n",
    "        print('Number of rows:', len(dataset))\n",
    "        print('Number of columns:',len(dataset[0]))\n",
    "        "
   ]
  },
  {
   "cell_type": "code",
   "execution_count": 7,
   "metadata": {},
   "outputs": [
    {
     "name": "stdout",
     "output_type": "stream",
     "text": [
      "['id', 'track_name', 'size_bytes', 'currency', 'price', 'rating_count_tot', 'rating_count_ver', 'user_rating', 'user_rating_ver', 'ver', 'cont_rating', 'prime_genre', 'sup_devices.num', 'ipadSc_urls.num', 'lang.num', 'vpp_lic']\n",
      "\n",
      "\n",
      "['284882215', 'Facebook', '389879808', 'USD', '0.0', '2974676', '212', '3.5', '3.5', '95.0', '4+', 'Social Networking', '37', '1', '29', '1']\n",
      "\n",
      "\n",
      "['389801252', 'Instagram', '113954816', 'USD', '0.0', '2161558', '1289', '4.5', '4.0', '10.23', '12+', 'Photo & Video', '37', '0', '29', '1']\n",
      "\n",
      "\n",
      "['529479190', 'Clash of Clans', '116476928', 'USD', '0.0', '2130805', '579', '4.5', '4.5', '9.24.12', '9+', 'Games', '38', '5', '18', '1']\n",
      "\n",
      "\n",
      "Number of rows: 7197\n",
      "Number of columns: 16\n"
     ]
    }
   ],
   "source": [
    "# Explore ios data\n",
    "print(ios_header)\n",
    "print('\\n')\n",
    "explore_data(ios,0,3,True)"
   ]
  },
  {
   "cell_type": "markdown",
   "metadata": {},
   "source": [
    "*Apple Store data has 7197 records with 16 variables. Some of the important variables which will help in analysing are 'Track_Name', 'price', 'rating_count_tot', 'user_rating', 'prime_genre'*"
   ]
  },
  {
   "cell_type": "code",
   "execution_count": 8,
   "metadata": {},
   "outputs": [
    {
     "name": "stdout",
     "output_type": "stream",
     "text": [
      "['App', 'Category', 'Rating', 'Reviews', 'Size', 'Installs', 'Type', 'Price', 'Content Rating', 'Genres', 'Last Updated', 'Current Ver', 'Android Ver']\n",
      "\n",
      "\n",
      "['Photo Editor & Candy Camera & Grid & ScrapBook', 'ART_AND_DESIGN', '4.1', '159', '19M', '10,000+', 'Free', '0', 'Everyone', 'Art & Design', 'January 7, 2018', '1.0.0', '4.0.3 and up']\n",
      "\n",
      "\n",
      "['Coloring book moana', 'ART_AND_DESIGN', '3.9', '967', '14M', '500,000+', 'Free', '0', 'Everyone', 'Art & Design;Pretend Play', 'January 15, 2018', '2.0.0', '4.0.3 and up']\n",
      "\n",
      "\n",
      "['U Launcher Lite – FREE Live Cool Themes, Hide Apps', 'ART_AND_DESIGN', '4.7', '87510', '8.7M', '5,000,000+', 'Free', '0', 'Everyone', 'Art & Design', 'August 1, 2018', '1.2.4', '4.0.3 and up']\n",
      "\n",
      "\n",
      "Number of rows: 10841\n",
      "Number of columns: 13\n"
     ]
    }
   ],
   "source": [
    "# Explore playstore data\n",
    "print(android_header)\n",
    "print('\\n')\n",
    "explore_data(android,0,3,True)"
   ]
  },
  {
   "cell_type": "markdown",
   "metadata": {},
   "source": [
    "*Google Play Store data has 10841 records with 13 variables. Some of the important variables which will help in analysing are 'App', 'Genres', 'Rating', 'Reviews', 'Type', 'Installs', 'Price'*"
   ]
  },
  {
   "cell_type": "markdown",
   "metadata": {},
   "source": [
    "### ios data dictionary"
   ]
  },
  {
   "cell_type": "raw",
   "metadata": {},
   "source": [
    "\"id\" : App ID\n",
    "\"track_name\": App Name\n",
    "\"size_bytes\": Size (in Bytes)\n",
    "\"currency\": Currency Type\n",
    "\"price\": Price amount\n",
    "\"ratingcounttot\": User Rating counts (for all version)\n",
    "\"ratingcountver\": User Rating counts (for current version)\n",
    "\"user_rating\" : Average User Rating value (for all version)\n",
    "\"userratingver\": Average User Rating value (for current version)\n",
    "\"ver\" : Latest version code\n",
    "\"cont_rating\": Content Rating\n",
    "\"prime_genre\": Primary Genre\n",
    "\"sup_devices.num\": Number of supporting devices\n",
    "\"ipadSc_urls.num\": Number of screenshots showed for display\n",
    "\"lang.num\": Number of supported languages\n",
    "\"vpp_lic\": Vpp Device Based Licensing Enabled"
   ]
  },
  {
   "cell_type": "markdown",
   "metadata": {},
   "source": [
    "## Data Cleaning"
   ]
  },
  {
   "cell_type": "markdown",
   "metadata": {},
   "source": [
    "### Playstore data cleaning\n",
    "*Through data discussions on the playstore community:\n",
    "    * Wrong entry 10472 row if header is not included as Category is not present and column shift has happened\n",
    "    * Remove Non English Apps\n",
    "    * Remove apps that are not free"
   ]
  },
  {
   "cell_type": "code",
   "execution_count": 9,
   "metadata": {},
   "outputs": [
    {
     "name": "stdout",
     "output_type": "stream",
     "text": [
      "['App', 'Category', 'Rating', 'Reviews', 'Size', 'Installs', 'Type', 'Price', 'Content Rating', 'Genres', 'Last Updated', 'Current Ver', 'Android Ver']\n",
      "\n",
      "\n",
      "['Life Made WI-Fi Touchscreen Photo Frame', '1.9', '19', '3.0M', '1,000+', 'Free', '0', 'Everyone', '', 'February 11, 2018', '1.0.19', '4.0 and up']\n",
      "\n",
      "\n"
     ]
    }
   ],
   "source": [
    "print(android_header)\n",
    "print('\\n')\n",
    "explore_data(android,10472,10473)"
   ]
  },
  {
   "cell_type": "markdown",
   "metadata": {},
   "source": [
    "As can be seen, there is no value for category in row 10472 and hence there is a column shift. Under Category, we see the value as 1.9 which is incorrect. Need to delete this row to clean up the playstore data."
   ]
  },
  {
   "cell_type": "code",
   "execution_count": 10,
   "metadata": {},
   "outputs": [],
   "source": [
    "#Deleting the row 10472\n",
    "del android[10472]"
   ]
  },
  {
   "cell_type": "code",
   "execution_count": 11,
   "metadata": {},
   "outputs": [
    {
     "name": "stdout",
     "output_type": "stream",
     "text": [
      "['Photo Editor & Candy Camera & Grid & ScrapBook', 'ART_AND_DESIGN', '4.1', '159', '19M', '10,000+', 'Free', '0', 'Everyone', 'Art & Design', 'January 7, 2018', '1.0.0', '4.0.3 and up']\n",
      "\n",
      "\n",
      "['Coloring book moana', 'ART_AND_DESIGN', '3.9', '967', '14M', '500,000+', 'Free', '0', 'Everyone', 'Art & Design;Pretend Play', 'January 15, 2018', '2.0.0', '4.0.3 and up']\n",
      "\n",
      "\n",
      "Number of rows: 10840\n",
      "Number of columns: 13\n"
     ]
    }
   ],
   "source": [
    "explore_data(android,0,2,True)"
   ]
  },
  {
   "cell_type": "markdown",
   "metadata": {},
   "source": [
    "So, now the number of rows in the android is 10840 after deleting a row of data"
   ]
  },
  {
   "cell_type": "markdown",
   "metadata": {},
   "source": [
    "## Removing Duplicate Entries\n",
    "Checking if the Android data has duplicate entries of the apps and see the best way to remove the data"
   ]
  },
  {
   "cell_type": "code",
   "execution_count": 12,
   "metadata": {},
   "outputs": [
    {
     "name": "stdout",
     "output_type": "stream",
     "text": [
      "['Instagram', 'SOCIAL', '4.5', '66577313', 'Varies with device', '1,000,000,000+', 'Free', '0', 'Teen', 'Social', 'July 31, 2018', 'Varies with device', 'Varies with device']\n",
      "['Instagram', 'SOCIAL', '4.5', '66577446', 'Varies with device', '1,000,000,000+', 'Free', '0', 'Teen', 'Social', 'July 31, 2018', 'Varies with device', 'Varies with device']\n",
      "['Instagram', 'SOCIAL', '4.5', '66577313', 'Varies with device', '1,000,000,000+', 'Free', '0', 'Teen', 'Social', 'July 31, 2018', 'Varies with device', 'Varies with device']\n",
      "['Instagram', 'SOCIAL', '4.5', '66509917', 'Varies with device', '1,000,000,000+', 'Free', '0', 'Teen', 'Social', 'July 31, 2018', 'Varies with device', 'Varies with device']\n"
     ]
    }
   ],
   "source": [
    "#Instagram has 4 entries in android\n",
    "for app in android:\n",
    "    name = app[0]\n",
    "    if name == \"Instagram\":\n",
    "        print(app)\n"
   ]
  },
  {
   "cell_type": "markdown",
   "metadata": {},
   "source": [
    "As can be seen, the only difference is the column 4 which shows the number of reviews. Rather than removing random duplicates, its better if we can keep the row of data with highest number of reviews as that's the latest data. The other rows of duplicate data can be removed. \n",
    "In total, there are 1,181 cases where an app occurs more than once."
   ]
  },
  {
   "cell_type": "code",
   "execution_count": 13,
   "metadata": {},
   "outputs": [
    {
     "name": "stdout",
     "output_type": "stream",
     "text": [
      "Number of Duplicate apps: 1181\n",
      "\n",
      "\n",
      "Example of Duplicate apps: ['Quick PDF Scanner + OCR FREE', 'Box', 'Google My Business', 'ZOOM Cloud Meetings', 'join.me - Simple Meetings']\n"
     ]
    }
   ],
   "source": [
    "#Counting the duplicate apps\n",
    "unique_apps=[]\n",
    "duplicate_apps=[]\n",
    "\n",
    "for app in android:\n",
    "    name = app[0]\n",
    "    if name in unique_apps:\n",
    "        duplicate_apps.append(name)\n",
    "    else:\n",
    "        unique_apps.append(name)\n",
    "        \n",
    "print('Number of Duplicate apps:', len(duplicate_apps))\n",
    "print('\\n')    \n",
    "print('Example of Duplicate apps:', duplicate_apps[:5])\n",
    "\n"
   ]
  },
  {
   "cell_type": "code",
   "execution_count": 14,
   "metadata": {},
   "outputs": [
    {
     "name": "stdout",
     "output_type": "stream",
     "text": [
      "Number of Unique apps in Android data: 9659\n"
     ]
    }
   ],
   "source": [
    "#Number of rows remaining in the data which are unique\n",
    "print(\"Number of Unique apps in Android data:\", len(android)-len(duplicate_apps))"
   ]
  },
  {
   "cell_type": "markdown",
   "metadata": {},
   "source": [
    "### Creating dictionary to remove duplicates\n",
    "To remove the duplicates, we will:\n",
    "\n",
    "* Create a dictionary, where each dictionary key is a unique app name and the corresponding dictionary value is the highest number of reviews of that app.\n",
    "* Use the information stored in the dictionary and create a new data set, which will have only one entry per app (and for each app, we'll only select the entry with the highest number of reviews)."
   ]
  },
  {
   "cell_type": "code",
   "execution_count": 15,
   "metadata": {},
   "outputs": [
    {
     "data": {
      "text/plain": [
       "9659"
      ]
     },
     "execution_count": 15,
     "metadata": {},
     "output_type": "execute_result"
    }
   ],
   "source": [
    "## Create a dictionary with unique app name and the number of reviews for the app\n",
    "reviews_max={}\n",
    "for app in android:\n",
    "    name = app[0]\n",
    "    n_reviews=float(app[3])\n",
    "    if name in reviews_max and reviews_max[name]<n_reviews: #if app already present in the dictionary, update reviews value\n",
    "        reviews_max[name]=n_reviews\n",
    "    elif name not in reviews_max: #Else use will update the less value of reviews\n",
    "        reviews_max[name]=n_reviews\n",
    "\n",
    "\n",
    "len(reviews_max)\n"
   ]
  },
  {
   "cell_type": "markdown",
   "metadata": {},
   "source": [
    "* Start by creating two empty lists: android_clean (which will store our new cleaned data set) and already_added (which will just store app names).\n",
    "* Loop through the Google Play data set (make sure you don't include the header row), and for each iteration:\n",
    "* Assign the app name to a variable named name.\n",
    "* Convert the number of reviews to float, and assign it to a variable named n_reviews.\n",
    "* If n_reviews is the same as the number of maximum reviews of the app name (the number can be found in the reviews_max dictionary) and name is not already in the list already_added \n",
    "* Append the entire row to the android_clean list (which will eventually be a list of list and store our cleaned data set).\n",
    "* Append the name of the app name to the already_added list — this helps us to keep track of apps that we already added."
   ]
  },
  {
   "cell_type": "code",
   "execution_count": 16,
   "metadata": {},
   "outputs": [],
   "source": [
    "# Creating two lists\n",
    "android_clean=[]\n",
    "already_added=[]\n",
    "for app in android:\n",
    "    name = app[0]\n",
    "    n_reviews=float(app[3])\n",
    "    if n_reviews == reviews_max[name] and name not in already_added:\n",
    "        android_clean.append(app)\n",
    "        already_added.append(name)"
   ]
  },
  {
   "cell_type": "code",
   "execution_count": 17,
   "metadata": {},
   "outputs": [
    {
     "name": "stdout",
     "output_type": "stream",
     "text": [
      "['Photo Editor & Candy Camera & Grid & ScrapBook', 'ART_AND_DESIGN', '4.1', '159', '19M', '10,000+', 'Free', '0', 'Everyone', 'Art & Design', 'January 7, 2018', '1.0.0', '4.0.3 and up']\n",
      "\n",
      "\n",
      "['U Launcher Lite – FREE Live Cool Themes, Hide Apps', 'ART_AND_DESIGN', '4.7', '87510', '8.7M', '5,000,000+', 'Free', '0', 'Everyone', 'Art & Design', 'August 1, 2018', '1.2.4', '4.0.3 and up']\n",
      "\n",
      "\n",
      "['Sketch - Draw & Paint', 'ART_AND_DESIGN', '4.5', '215644', '25M', '50,000,000+', 'Free', '0', 'Teen', 'Art & Design', 'June 8, 2018', 'Varies with device', '4.2 and up']\n",
      "\n",
      "\n",
      "Number of rows: 9659\n",
      "Number of columns: 13\n"
     ]
    }
   ],
   "source": [
    "explore_data(android_clean,0,3,True)"
   ]
  },
  {
   "cell_type": "code",
   "execution_count": 18,
   "metadata": {},
   "outputs": [
    {
     "name": "stdout",
     "output_type": "stream",
     "text": [
      "['Instagram', 'SOCIAL', '4.5', '66577446', 'Varies with device', '1,000,000,000+', 'Free', '0', 'Teen', 'Social', 'July 31, 2018', 'Varies with device', 'Varies with device']\n"
     ]
    }
   ],
   "source": [
    "##Checking sample data for Android where app = Instagram\n",
    "for app in android_clean:\n",
    "    name = app[0]\n",
    "    if name == \"Instagram\":\n",
    "        print(app)"
   ]
  },
  {
   "cell_type": "markdown",
   "metadata": {},
   "source": [
    "As can be seen, Instagram has only one record now with the max reviews of 66577446 number of reviews out of the 4 records which was present earlier. "
   ]
  },
  {
   "cell_type": "code",
   "execution_count": 19,
   "metadata": {},
   "outputs": [
    {
     "name": "stdout",
     "output_type": "stream",
     "text": [
      "Number of Duplicate apps: 2\n",
      "\n",
      "\n",
      "Example of Duplicate apps: ['Mannequin Challenge', 'VR Roller Coaster']\n"
     ]
    }
   ],
   "source": [
    "#Checking duplicate apps in ios based on App Name\n",
    "unique_apps=[]\n",
    "duplicate_apps=[]\n",
    "\n",
    "for app in ios:\n",
    "    name = app[1]\n",
    "    if name in unique_apps:\n",
    "        duplicate_apps.append(name)\n",
    "    else:\n",
    "        unique_apps.append(name)\n",
    "        \n",
    "print('Number of Duplicate apps:', len(duplicate_apps))\n",
    "print('\\n')    \n",
    "print('Example of Duplicate apps:', duplicate_apps[:5])"
   ]
  },
  {
   "cell_type": "code",
   "execution_count": 20,
   "metadata": {},
   "outputs": [
    {
     "name": "stdout",
     "output_type": "stream",
     "text": [
      "['1173990889', 'Mannequin Challenge', '109705216', 'USD', '0.0', '668', '87', '3.0', '3.0', '1.4', '9+', 'Games', '37', '4', '1', '1']\n",
      "['952877179', 'VR Roller Coaster', '169523200', 'USD', '0.0', '107', '102', '3.5', '3.5', '2.0.0', '4+', 'Games', '37', '5', '1', '1']\n",
      "['1178454060', 'Mannequin Challenge', '59572224', 'USD', '0.0', '105', '58', '4.0', '4.5', '1.0.1', '4+', 'Games', '38', '5', '1', '1']\n",
      "['1089824278', 'VR Roller Coaster', '240964608', 'USD', '0.0', '67', '44', '3.5', '4.0', '0.81', '4+', 'Games', '38', '0', '1', '1']\n"
     ]
    }
   ],
   "source": [
    "##Checking sample data for Android where app = Instagram\n",
    "for app in ios:\n",
    "    name = app[1]\n",
    "    if name == \"Mannequin Challenge\" or name == \"VR Roller Coaster\":\n",
    "        print(app)"
   ]
  },
  {
   "cell_type": "markdown",
   "metadata": {},
   "source": [
    "But, as we can see, all the values are quite different and hence they are not duplicates. Lets check the duplicates based on the app id."
   ]
  },
  {
   "cell_type": "code",
   "execution_count": 21,
   "metadata": {},
   "outputs": [
    {
     "name": "stdout",
     "output_type": "stream",
     "text": [
      "Number of Duplicate apps: 0\n",
      "\n",
      "\n",
      "Example of Duplicate apps: []\n"
     ]
    }
   ],
   "source": [
    "#Checking duplicate apps in ios based on App Name\n",
    "unique_apps=[]\n",
    "duplicate_apps=[]\n",
    "\n",
    "for app in ios:\n",
    "    name = app[0]\n",
    "    if name in unique_apps:\n",
    "        duplicate_apps.append(name)\n",
    "    else:\n",
    "        unique_apps.append(name)\n",
    "        \n",
    "print('Number of Duplicate apps:', len(duplicate_apps))\n",
    "print('\\n')    \n",
    "print('Example of Duplicate apps:', duplicate_apps[:5])"
   ]
  },
  {
   "cell_type": "markdown",
   "metadata": {},
   "source": [
    "Conclusion: There are no duplicate apps in ios data."
   ]
  },
  {
   "cell_type": "markdown",
   "metadata": {},
   "source": [
    "## Removing Non English Apps\n",
    "Only English Apps to be considered. Any other language apps needs to be removed."
   ]
  },
  {
   "cell_type": "code",
   "execution_count": 22,
   "metadata": {},
   "outputs": [
    {
     "name": "stdout",
     "output_type": "stream",
     "text": [
      "爱奇艺PPS -《欢乐颂2》电视剧热播\n",
      "【脱出ゲーム】絶対に最後までプレイしないで 〜謎解き＆ブロックパズル〜\n",
      "\n",
      "\n",
      "中国語 AQリスニング\n",
      "لعبة تقدر تربح DZ\n"
     ]
    }
   ],
   "source": [
    "# Some examples of non English apps based on the discussion in the community\n",
    "print(ios[813][1])\n",
    "print(ios[6731][1])\n",
    "print('\\n')\n",
    "print(android_clean[4412][0])\n",
    "print(android_clean[7940][0])"
   ]
  },
  {
   "cell_type": "code",
   "execution_count": 23,
   "metadata": {},
   "outputs": [
    {
     "name": "stdout",
     "output_type": "stream",
     "text": [
      "97\n",
      "65\n",
      "53\n",
      "43\n",
      "20013\n",
      "12473\n"
     ]
    }
   ],
   "source": [
    "# There is a corresponding number associated with each character in Python\n",
    "print(ord('a'))\n",
    "print(ord('A'))\n",
    "print(ord('5'))\n",
    "print(ord('+'))\n",
    "print(ord('中'))\n",
    "print(ord('ス'))"
   ]
  },
  {
   "cell_type": "markdown",
   "metadata": {},
   "source": [
    "The numbers corresponding to the characters we commonly use in an English text are all in the range 0 to 127, according to the ASCII (American Standard Code for Information Interchange) system. Based on this number range, we can build a function that detects whether a character belongs to the set of common English characters or not. If the number is equal to or less than 127, then the character belongs to the set of common English characters."
   ]
  },
  {
   "cell_type": "code",
   "execution_count": 24,
   "metadata": {},
   "outputs": [],
   "source": [
    "# Writing a function which checks whether character within the strings are english characters or not\n",
    "# Strings are indexable and iterable\n",
    "def check_english(input_string):\n",
    "    for i in input_string:\n",
    "        if ord(i) >127:\n",
    "            return False\n",
    "        \n",
    "    return True"
   ]
  },
  {
   "cell_type": "code",
   "execution_count": 25,
   "metadata": {},
   "outputs": [
    {
     "name": "stdout",
     "output_type": "stream",
     "text": [
      "True\n",
      "False\n",
      "False\n",
      "False\n"
     ]
    }
   ],
   "source": [
    "print(check_english('Instagram'))\n",
    "print(check_english('爱奇艺PPS -《欢乐颂2》电视剧热播'))\n",
    "print(check_english('Docs To Go™ Free Office Suite'))\n",
    "print(check_english('Instachat 😜'))"
   ]
  },
  {
   "cell_type": "markdown",
   "metadata": {},
   "source": [
    "Based on the logic, the last two apps should have been True. But Emojies or characters such as ™ will lead to removal of even english apps. Many english apps will be labeled as non English. Checking the ords of these characters:"
   ]
  },
  {
   "cell_type": "code",
   "execution_count": 26,
   "metadata": {},
   "outputs": [
    {
     "name": "stdout",
     "output_type": "stream",
     "text": [
      "128540\n",
      "8482\n"
     ]
    }
   ],
   "source": [
    "print(ord('😜'))\n",
    "print(ord('™'))"
   ]
  },
  {
   "cell_type": "markdown",
   "metadata": {},
   "source": [
    "To minimize the impact of data loss, we'll only remove an app if its name has more than three characters with corresponding numbers falling outside the ASCII range. This means all English apps with up to three emoji or other special characters will still be labeled as English. Our filter function is still not perfect, but it should be fairly effective."
   ]
  },
  {
   "cell_type": "code",
   "execution_count": 27,
   "metadata": {},
   "outputs": [],
   "source": [
    "#Rewriting the function to handle the more than three characters logic\n",
    "def check_english(input_string):\n",
    "    asc_ii=0\n",
    "    for i in input_string:\n",
    "        if ord(i) >127:\n",
    "            asc_ii+=1\n",
    "    \n",
    "    if asc_ii > 3:\n",
    "        return False\n",
    "    else:\n",
    "        return True"
   ]
  },
  {
   "cell_type": "code",
   "execution_count": 28,
   "metadata": {},
   "outputs": [
    {
     "name": "stdout",
     "output_type": "stream",
     "text": [
      "False\n",
      "True\n",
      "True\n"
     ]
    }
   ],
   "source": [
    "print(check_english('爱奇艺PPS -《欢乐颂2》电视剧热播'))\n",
    "print(check_english('Docs To Go™ Free Office Suite'))\n",
    "print(check_english('Instachat 😜'))"
   ]
  },
  {
   "cell_type": "markdown",
   "metadata": {},
   "source": [
    "This function is still not perfect but still as can be seen, it will remove all the non English apps and there might be a small chance it removes some of the english apps too. "
   ]
  },
  {
   "cell_type": "code",
   "execution_count": 29,
   "metadata": {},
   "outputs": [],
   "source": [
    "#Using this function to remove all non english apps in ios data\n",
    "ios_english=[]\n",
    "ios_non_english=[]\n",
    "for app in ios:\n",
    "    name = app[1]# App name is indexed at 1\n",
    "    if check_english(name)==True:\n",
    "        ios_english.append(app)\n",
    "    else:\n",
    "        ios_non_english.append(app)   "
   ]
  },
  {
   "cell_type": "code",
   "execution_count": 30,
   "metadata": {},
   "outputs": [
    {
     "name": "stdout",
     "output_type": "stream",
     "text": [
      "['284882215', 'Facebook', '389879808', 'USD', '0.0', '2974676', '212', '3.5', '3.5', '95.0', '4+', 'Social Networking', '37', '1', '29', '1']\n",
      "\n",
      "\n",
      "['389801252', 'Instagram', '113954816', 'USD', '0.0', '2161558', '1289', '4.5', '4.0', '10.23', '12+', 'Photo & Video', '37', '0', '29', '1']\n",
      "\n",
      "\n",
      "['529479190', 'Clash of Clans', '116476928', 'USD', '0.0', '2130805', '579', '4.5', '4.5', '9.24.12', '9+', 'Games', '38', '5', '18', '1']\n",
      "\n",
      "\n",
      "Number of rows: 6183\n",
      "Number of columns: 16\n"
     ]
    }
   ],
   "source": [
    "#Exploring both ios english and ios non english list\n",
    "explore_data(ios_english,0,3,True)"
   ]
  },
  {
   "cell_type": "code",
   "execution_count": 31,
   "metadata": {},
   "outputs": [
    {
     "name": "stdout",
     "output_type": "stream",
     "text": [
      "['445375097', '爱奇艺PPS -《欢乐颂2》电视剧热播', '224617472', 'USD', '0.0', '14844', '0', '4.0', '0.0', '6.3.3', '17+', 'Entertainment', '38', '5', '3', '1']\n",
      "\n",
      "\n",
      "['405667771', '聚力视频HD-人民的名义,跨界歌王全网热播', '90725376', 'USD', '0.0', '7446', '8', '4.0', '4.5', '5.0.8', '12+', 'Entertainment', '24', '4', '1', '1']\n",
      "\n",
      "\n",
      "['336141475', '优酷视频', '204959744', 'USD', '0.0', '4885', '0', '3.5', '0.0', '6.7.0', '12+', 'Entertainment', '38', '0', '2', '1']\n",
      "\n",
      "\n",
      "Number of rows: 1014\n",
      "Number of columns: 16\n"
     ]
    }
   ],
   "source": [
    "explore_data(ios_non_english,0,3,True)"
   ]
  },
  {
   "cell_type": "code",
   "execution_count": 32,
   "metadata": {},
   "outputs": [],
   "source": [
    "#Using this function to remove all non english apps in android clean data\n",
    "android_english=[]\n",
    "android_non_english=[]\n",
    "for app in android_clean:\n",
    "    name = app[0] #App Name is indexed at 0\n",
    "    if check_english(name)==True:\n",
    "        android_english.append(app)\n",
    "    else:\n",
    "        android_non_english.append(app)  "
   ]
  },
  {
   "cell_type": "code",
   "execution_count": 33,
   "metadata": {},
   "outputs": [
    {
     "name": "stdout",
     "output_type": "stream",
     "text": [
      "['Photo Editor & Candy Camera & Grid & ScrapBook', 'ART_AND_DESIGN', '4.1', '159', '19M', '10,000+', 'Free', '0', 'Everyone', 'Art & Design', 'January 7, 2018', '1.0.0', '4.0.3 and up']\n",
      "\n",
      "\n",
      "['U Launcher Lite – FREE Live Cool Themes, Hide Apps', 'ART_AND_DESIGN', '4.7', '87510', '8.7M', '5,000,000+', 'Free', '0', 'Everyone', 'Art & Design', 'August 1, 2018', '1.2.4', '4.0.3 and up']\n",
      "\n",
      "\n",
      "['Sketch - Draw & Paint', 'ART_AND_DESIGN', '4.5', '215644', '25M', '50,000,000+', 'Free', '0', 'Teen', 'Art & Design', 'June 8, 2018', 'Varies with device', '4.2 and up']\n",
      "\n",
      "\n",
      "Number of rows: 9614\n",
      "Number of columns: 13\n"
     ]
    }
   ],
   "source": [
    "#Exploring both android english and ios non english list\n",
    "explore_data(android_english,0,3,True)"
   ]
  },
  {
   "cell_type": "code",
   "execution_count": 34,
   "metadata": {},
   "outputs": [
    {
     "name": "stdout",
     "output_type": "stream",
     "text": [
      "['Flame - درب عقلك يوميا', 'EDUCATION', '4.6', '56065', '37M', '1,000,000+', 'Free', '0', 'Everyone', 'Education', 'July 26, 2018', '3.3', '4.1 and up']\n",
      "\n",
      "\n",
      "['သိင်္ Astrology - Min Thein Kha BayDin', 'LIFESTYLE', '4.7', '2225', '15M', '100,000+', 'Free', '0', 'Everyone', 'Lifestyle', 'July 26, 2018', '4.2.1', '4.0.3 and up']\n",
      "\n",
      "\n",
      "['РИА Новости', 'NEWS_AND_MAGAZINES', '4.5', '44274', '8.0M', '1,000,000+', 'Free', '0', 'Everyone', 'News & Magazines', 'August 6, 2018', '4.0.6', '4.4 and up']\n",
      "\n",
      "\n",
      "Number of rows: 45\n",
      "Number of columns: 13\n"
     ]
    }
   ],
   "source": [
    "explore_data(android_non_english,0,3,True)"
   ]
  },
  {
   "cell_type": "markdown",
   "metadata": {},
   "source": [
    "Looking at both the datasets, after removing inaccurate data, duplicates and non english apps, the datasets have following number of rows:\n",
    "* ios_english: 6183 rows\n",
    "* android_english: 9614 rows"
   ]
  },
  {
   "cell_type": "markdown",
   "metadata": {},
   "source": [
    "### Removing Paid apps\n",
    "Last Step is to remove the Paid Apps as we are only concerned about the apps which are free to install. In ios, the price is at index 4. If price is 0.0 then its free. In Android, Type column determines whether an app is free or paid. If Type == \"Free\" then its free app to install in android.\n"
   ]
  },
  {
   "cell_type": "code",
   "execution_count": 35,
   "metadata": {},
   "outputs": [],
   "source": [
    "#Using this function to remove all paid apps in ios data\n",
    "ios_free=[]\n",
    "ios_paid=[]\n",
    "for app in ios_english:\n",
    "    price = app[4]# App name is indexed at 4\n",
    "    if price == '0.0':\n",
    "        ios_free.append(app)\n",
    "    else:\n",
    "        ios_paid.append(app)  "
   ]
  },
  {
   "cell_type": "code",
   "execution_count": 36,
   "metadata": {},
   "outputs": [
    {
     "name": "stdout",
     "output_type": "stream",
     "text": [
      "['284882215', 'Facebook', '389879808', 'USD', '0.0', '2974676', '212', '3.5', '3.5', '95.0', '4+', 'Social Networking', '37', '1', '29', '1']\n",
      "\n",
      "\n",
      "['389801252', 'Instagram', '113954816', 'USD', '0.0', '2161558', '1289', '4.5', '4.0', '10.23', '12+', 'Photo & Video', '37', '0', '29', '1']\n",
      "\n",
      "\n",
      "['529479190', 'Clash of Clans', '116476928', 'USD', '0.0', '2130805', '579', '4.5', '4.5', '9.24.12', '9+', 'Games', '38', '5', '18', '1']\n",
      "\n",
      "\n",
      "Number of rows: 3222\n",
      "Number of columns: 16\n"
     ]
    }
   ],
   "source": [
    "#Exploring both ios free and paid data list\n",
    "explore_data(ios_free,0,3,True)"
   ]
  },
  {
   "cell_type": "code",
   "execution_count": 37,
   "metadata": {},
   "outputs": [
    {
     "name": "stdout",
     "output_type": "stream",
     "text": [
      "['362949845', 'Fruit Ninja Classic', '104590336', 'USD', '1.99', '698516', '132', '4.5', '4.0', '2.3.9', '4+', 'Games', '38', '5', '13', '1']\n",
      "\n",
      "\n",
      "['500116670', 'Clear Vision (17+)', '37879808', 'USD', '0.99', '541693', '69225', '4.5', '4.5', '1.1.3', '17+', 'Games', '43', '5', '1', '1']\n",
      "\n",
      "\n",
      "['479516143', 'Minecraft: Pocket Edition', '147787776', 'USD', '6.99', '522012', '1148', '4.5', '4.5', '1.1', '9+', 'Games', '37', '1', '11', '1']\n",
      "\n",
      "\n",
      "Number of rows: 2961\n",
      "Number of columns: 16\n"
     ]
    }
   ],
   "source": [
    "explore_data(ios_paid,0,3,True)"
   ]
  },
  {
   "cell_type": "code",
   "execution_count": 38,
   "metadata": {},
   "outputs": [],
   "source": [
    "#Using this function to remove all paid apps in android data\n",
    "android_free=[]\n",
    "android_paid=[]\n",
    "for app in android_english:\n",
    "    price = app[6]# Price type is indexed at 6\n",
    "    if price == 'Free':\n",
    "        android_free.append(app)\n",
    "    else:\n",
    "        android_paid.append(app)  "
   ]
  },
  {
   "cell_type": "code",
   "execution_count": 39,
   "metadata": {},
   "outputs": [
    {
     "name": "stdout",
     "output_type": "stream",
     "text": [
      "['Photo Editor & Candy Camera & Grid & ScrapBook', 'ART_AND_DESIGN', '4.1', '159', '19M', '10,000+', 'Free', '0', 'Everyone', 'Art & Design', 'January 7, 2018', '1.0.0', '4.0.3 and up']\n",
      "\n",
      "\n",
      "['U Launcher Lite – FREE Live Cool Themes, Hide Apps', 'ART_AND_DESIGN', '4.7', '87510', '8.7M', '5,000,000+', 'Free', '0', 'Everyone', 'Art & Design', 'August 1, 2018', '1.2.4', '4.0.3 and up']\n",
      "\n",
      "\n",
      "['Sketch - Draw & Paint', 'ART_AND_DESIGN', '4.5', '215644', '25M', '50,000,000+', 'Free', '0', 'Teen', 'Art & Design', 'June 8, 2018', 'Varies with device', '4.2 and up']\n",
      "\n",
      "\n",
      "Number of rows: 8863\n",
      "Number of columns: 13\n"
     ]
    }
   ],
   "source": [
    "#Exploring both ios free and paid list\n",
    "explore_data(android_free,0,3,True)"
   ]
  },
  {
   "cell_type": "code",
   "execution_count": 40,
   "metadata": {},
   "outputs": [
    {
     "name": "stdout",
     "output_type": "stream",
     "text": [
      "['TurboScan: scan documents and receipts in PDF', 'BUSINESS', '4.7', '11442', '6.8M', '100,000+', 'Paid', '$4.99', 'Everyone', 'Business', 'March 25, 2018', '1.5.2', '4.0 and up']\n",
      "\n",
      "\n",
      "['Tiny Scanner Pro: PDF Doc Scan', 'BUSINESS', '4.8', '10295', '39M', '100,000+', 'Paid', '$4.99', 'Everyone', 'Business', 'April 11, 2017', '3.4.6', '3.0 and up']\n",
      "\n",
      "\n",
      "['Puffin Browser Pro', 'COMMUNICATION', '4.0', '18247', 'Varies with device', '100,000+', 'Paid', '$3.99', 'Everyone', 'Communication', 'July 5, 2018', '7.5.3.20547', '4.1 and up']\n",
      "\n",
      "\n",
      "Number of rows: 751\n",
      "Number of columns: 13\n"
     ]
    }
   ],
   "source": [
    "explore_data(android_paid,0,3,True)"
   ]
  },
  {
   "cell_type": "markdown",
   "metadata": {},
   "source": [
    "Looking at both the datasets, after removing paid apps, data cleansing is completed and the datasets have following number of rows:\n",
    "* ios_free: 3222 rows\n",
    "* android_free: 8863 rows"
   ]
  },
  {
   "cell_type": "markdown",
   "metadata": {},
   "source": [
    "## Most Common Genres for both ios and Android\n",
    "Goal is to determine the kinds of apps that are likely to attract more users because revenue is highly influenced by the number of people using our apps.\n",
    "\n",
    "Validation Strategy:\n",
    "* Build a minimal Android version of the app, and add it to Google Play.\n",
    "* If the app has a good response from users, we develop it further.\n",
    "* If the app is profitable after six months, we build an iOS version of the app and add it to the App Store.\n",
    "\n",
    "Because our end goal is to add the app on both Google Play and the App Store, we need to find app profiles that are successful on both markets. For ex. Productivity apps on both store.\n",
    "\n",
    "Generate frequency table for most common genres in the market:\n",
    "* ios_free: prime_genre (Index 11)\n",
    "* Android_free: Category (Index = 1), Genres(Index=9)\n",
    "\n",
    "Both Genres and Category in Android seem to be same. Lets check that."
   ]
  },
  {
   "cell_type": "markdown",
   "metadata": {},
   "source": [
    "We'll build two functions we can use to analyze the frequency tables:\n",
    "\n",
    "* One function to generate frequency tables that show percentages\n",
    "* Another function we can use to display the percentages in a descending order\n"
   ]
  },
  {
   "cell_type": "markdown",
   "metadata": {},
   "source": [
    "Dictionaries don't have orders so it will be very difficult to analyze the frequency tables. A second function is needed which can help  display the entries in the frequency table in a descending order. The sorted function doesn't work well with dictionaries but if dictionary can be converted into tuples, where dictionary value comes first and dictionary key comes second. \n",
    "* Freq_Table={Genre_1:50,Genre_2:70,Genre_3:100}\n",
    "* Freq_Table_Tuple=[(50,Genre_1),(70,Genre_2),(100,Genre_3)]\n",
    "* sorted(freq_table_tuple,reverse=TRUE)\n",
    "* Result = [(100,Genre_3),(70,Genre_2),(50,Genre_1)]"
   ]
  },
  {
   "cell_type": "markdown",
   "metadata": {},
   "source": [
    "To write the function, we have the following requirements:\n",
    "* Takes in two parameters: dataset and index. dataset is expected to be a list of lists, and index is expected to be an integer.\n",
    "* Generates a frequency table using the freq_table() function (which you're going to write as an exercise).\n",
    "* Transforms the frequency table into a list of tuples, then sorts the list in a descending order.\n",
    "* Prints the entries of the frequency table in descending order."
   ]
  },
  {
   "cell_type": "code",
   "execution_count": 72,
   "metadata": {},
   "outputs": [],
   "source": [
    "## Creating first function which generates the frequency table for Genres\n",
    "def freq_table(dataset,index):\n",
    "    dict_count={}\n",
    "    table_percentages={}\n",
    "    total=0\n",
    "    \n",
    "    for row in dataset:\n",
    "        total+=1\n",
    "        name = row[index]\n",
    "        if name in dict_count:\n",
    "            dict_count[name]+=1\n",
    "        else:\n",
    "            dict_count[name]=1\n",
    "\n",
    "    for key in dict_count:\n",
    "        percentage = round((dict_count[key]/total)*100,2)\n",
    "        table_percentages[key]=percentage\n",
    "        \n",
    "    return table_percentages"
   ]
  },
  {
   "cell_type": "code",
   "execution_count": 73,
   "metadata": {},
   "outputs": [
    {
     "data": {
      "text/plain": [
       "{'Social Networking': 3.29,\n",
       " 'Photo & Video': 4.97,\n",
       " 'Games': 58.16,\n",
       " 'Music': 2.05,\n",
       " 'Reference': 0.56,\n",
       " 'Health & Fitness': 2.02,\n",
       " 'Weather': 0.87,\n",
       " 'Utilities': 2.51,\n",
       " 'Travel': 1.24,\n",
       " 'Shopping': 2.61,\n",
       " 'News': 1.33,\n",
       " 'Navigation': 0.19,\n",
       " 'Lifestyle': 1.58,\n",
       " 'Entertainment': 7.88,\n",
       " 'Food & Drink': 0.81,\n",
       " 'Sports': 2.14,\n",
       " 'Book': 0.43,\n",
       " 'Finance': 1.12,\n",
       " 'Education': 3.66,\n",
       " 'Productivity': 1.74,\n",
       " 'Business': 0.53,\n",
       " 'Catalogs': 0.12,\n",
       " 'Medical': 0.19}"
      ]
     },
     "execution_count": 73,
     "metadata": {},
     "output_type": "execute_result"
    }
   ],
   "source": [
    "# Category in Android data\n",
    "freq_table(ios_free,11)"
   ]
  },
  {
   "cell_type": "code",
   "execution_count": 74,
   "metadata": {},
   "outputs": [
    {
     "data": {
      "text/plain": [
       "{'Art & Design': 0.6,\n",
       " 'Art & Design;Creativity': 0.07,\n",
       " 'Auto & Vehicles': 0.93,\n",
       " 'Beauty': 0.6,\n",
       " 'Books & Reference': 2.14,\n",
       " 'Business': 4.59,\n",
       " 'Comics': 0.61,\n",
       " 'Comics;Creativity': 0.01,\n",
       " 'Communication': 3.24,\n",
       " 'Dating': 1.86,\n",
       " 'Education': 5.35,\n",
       " 'Education;Creativity': 0.05,\n",
       " 'Education;Education': 0.34,\n",
       " 'Education;Pretend Play': 0.06,\n",
       " 'Education;Brain Games': 0.03,\n",
       " 'Entertainment': 6.07,\n",
       " 'Entertainment;Brain Games': 0.08,\n",
       " 'Entertainment;Creativity': 0.03,\n",
       " 'Entertainment;Music & Video': 0.17,\n",
       " 'Events': 0.71,\n",
       " 'Finance': 3.7,\n",
       " 'Food & Drink': 1.24,\n",
       " 'Health & Fitness': 3.08,\n",
       " 'House & Home': 0.82,\n",
       " 'Libraries & Demo': 0.94,\n",
       " 'Lifestyle': 3.89,\n",
       " 'Lifestyle;Pretend Play': 0.01,\n",
       " 'Card': 0.45,\n",
       " 'Arcade': 1.85,\n",
       " 'Puzzle': 1.13,\n",
       " 'Racing': 0.99,\n",
       " 'Sports': 3.46,\n",
       " 'Casual': 1.76,\n",
       " 'Simulation': 2.04,\n",
       " 'Adventure': 0.68,\n",
       " 'Trivia': 0.42,\n",
       " 'Action': 3.1,\n",
       " 'Word': 0.26,\n",
       " 'Role Playing': 0.94,\n",
       " 'Strategy': 0.9,\n",
       " 'Board': 0.38,\n",
       " 'Music': 0.2,\n",
       " 'Action;Action & Adventure': 0.1,\n",
       " 'Casual;Brain Games': 0.14,\n",
       " 'Educational;Creativity': 0.03,\n",
       " 'Puzzle;Brain Games': 0.17,\n",
       " 'Educational;Education': 0.39,\n",
       " 'Casual;Pretend Play': 0.24,\n",
       " 'Educational;Brain Games': 0.07,\n",
       " 'Art & Design;Pretend Play': 0.01,\n",
       " 'Educational;Pretend Play': 0.09,\n",
       " 'Entertainment;Education': 0.01,\n",
       " 'Casual;Education': 0.02,\n",
       " 'Casual;Creativity': 0.07,\n",
       " 'Casual;Action & Adventure': 0.14,\n",
       " 'Music;Music & Video': 0.02,\n",
       " 'Arcade;Pretend Play': 0.01,\n",
       " 'Adventure;Action & Adventure': 0.03,\n",
       " 'Role Playing;Action & Adventure': 0.03,\n",
       " 'Simulation;Pretend Play': 0.02,\n",
       " 'Puzzle;Creativity': 0.02,\n",
       " 'Simulation;Action & Adventure': 0.08,\n",
       " 'Racing;Action & Adventure': 0.17,\n",
       " 'Sports;Action & Adventure': 0.02,\n",
       " 'Educational;Action & Adventure': 0.03,\n",
       " 'Arcade;Action & Adventure': 0.12,\n",
       " 'Entertainment;Action & Adventure': 0.03,\n",
       " 'Art & Design;Action & Adventure': 0.01,\n",
       " 'Puzzle;Action & Adventure': 0.03,\n",
       " 'Education;Action & Adventure': 0.03,\n",
       " 'Strategy;Action & Adventure': 0.01,\n",
       " 'Music & Audio;Music & Video': 0.01,\n",
       " 'Health & Fitness;Education': 0.01,\n",
       " 'Board;Action & Adventure': 0.02,\n",
       " 'Board;Brain Games': 0.08,\n",
       " 'Casual;Music & Video': 0.01,\n",
       " 'Education;Music & Video': 0.03,\n",
       " 'Role Playing;Pretend Play': 0.05,\n",
       " 'Entertainment;Pretend Play': 0.02,\n",
       " 'Medical': 3.53,\n",
       " 'Social': 2.66,\n",
       " 'Shopping': 2.25,\n",
       " 'Photography': 2.94,\n",
       " 'Travel & Local': 2.32,\n",
       " 'Travel & Local;Action & Adventure': 0.01,\n",
       " 'Tools': 8.45,\n",
       " 'Tools;Education': 0.01,\n",
       " 'Personalization': 3.32,\n",
       " 'Productivity': 3.89,\n",
       " 'Parenting': 0.5,\n",
       " 'Parenting;Music & Video': 0.07,\n",
       " 'Parenting;Education': 0.08,\n",
       " 'Parenting;Brain Games': 0.01,\n",
       " 'Weather': 0.8,\n",
       " 'Video Players & Editors': 1.77,\n",
       " 'Video Players & Editors;Music & Video': 0.02,\n",
       " 'Video Players & Editors;Creativity': 0.01,\n",
       " 'News & Magazines': 2.8,\n",
       " 'Maps & Navigation': 1.4,\n",
       " 'Health & Fitness;Action & Adventure': 0.01,\n",
       " 'Educational': 0.37,\n",
       " 'Casino': 0.43,\n",
       " 'Trivia;Education': 0.01,\n",
       " 'Lifestyle;Education': 0.01,\n",
       " 'Card;Action & Adventure': 0.01,\n",
       " 'Books & Reference;Education': 0.01,\n",
       " 'Simulation;Education': 0.01,\n",
       " 'Puzzle;Education': 0.01,\n",
       " 'Adventure;Education': 0.01,\n",
       " 'Role Playing;Brain Games': 0.01,\n",
       " 'Strategy;Education': 0.01,\n",
       " 'Racing;Pretend Play': 0.01,\n",
       " 'Communication;Creativity': 0.01,\n",
       " 'Strategy;Creativity': 0.01}"
      ]
     },
     "execution_count": 74,
     "metadata": {},
     "output_type": "execute_result"
    }
   ],
   "source": [
    "# Genres in Android data\n",
    "freq_table(android_free,9)"
   ]
  },
  {
   "cell_type": "code",
   "execution_count": 76,
   "metadata": {},
   "outputs": [],
   "source": [
    "# Converting frequency table into Tuple and Sorting the data\n",
    "def display_table(dataset, index):\n",
    "    table = freq_table(dataset, index)\n",
    "    table_display = []\n",
    "    for key in table:\n",
    "        key_val_as_tuple = (table[key], key)\n",
    "        table_display.append(key_val_as_tuple)\n",
    "\n",
    "    table_sorted = sorted(table_display, reverse = True)\n",
    "    for entry in table_sorted:\n",
    "        print(entry[1], ':', entry[0])"
   ]
  },
  {
   "cell_type": "code",
   "execution_count": 77,
   "metadata": {},
   "outputs": [
    {
     "name": "stdout",
     "output_type": "stream",
     "text": [
      "Games : 58.16\n",
      "Entertainment : 7.88\n",
      "Photo & Video : 4.97\n",
      "Education : 3.66\n",
      "Social Networking : 3.29\n",
      "Shopping : 2.61\n",
      "Utilities : 2.51\n",
      "Sports : 2.14\n",
      "Music : 2.05\n",
      "Health & Fitness : 2.02\n",
      "Productivity : 1.74\n",
      "Lifestyle : 1.58\n",
      "News : 1.33\n",
      "Travel : 1.24\n",
      "Finance : 1.12\n",
      "Weather : 0.87\n",
      "Food & Drink : 0.81\n",
      "Reference : 0.56\n",
      "Business : 0.53\n",
      "Book : 0.43\n",
      "Navigation : 0.19\n",
      "Medical : 0.19\n",
      "Catalogs : 0.12\n"
     ]
    }
   ],
   "source": [
    "display_table(ios_free,11)"
   ]
  },
  {
   "cell_type": "markdown",
   "metadata": {},
   "source": [
    "While Analyzing the free English Apps on ios store, here are some of the most interesting insights:\n",
    "* Games is the most common genre with 58% share i.e. more than half.\n",
    "* The next most common genre is Entertainment which has 7.88% share.\n",
    "* Most common app profiles on ios store are Games, Entertainment, Photo and Videos, Social Networking which falls under fun apps while important educational or productivity apps are far more rare. They might be present on the ios store because of the users demand but that does not mean that having more apps in those genres on ios store means they have more users. "
   ]
  },
  {
   "cell_type": "code",
   "execution_count": 78,
   "metadata": {},
   "outputs": [
    {
     "name": "stdout",
     "output_type": "stream",
     "text": [
      "FAMILY : 18.9\n",
      "GAME : 9.73\n",
      "TOOLS : 8.46\n",
      "BUSINESS : 4.59\n",
      "LIFESTYLE : 3.9\n",
      "PRODUCTIVITY : 3.89\n",
      "FINANCE : 3.7\n",
      "MEDICAL : 3.53\n",
      "SPORTS : 3.4\n",
      "PERSONALIZATION : 3.32\n",
      "COMMUNICATION : 3.24\n",
      "HEALTH_AND_FITNESS : 3.08\n",
      "PHOTOGRAPHY : 2.94\n",
      "NEWS_AND_MAGAZINES : 2.8\n",
      "SOCIAL : 2.66\n",
      "TRAVEL_AND_LOCAL : 2.34\n",
      "SHOPPING : 2.25\n",
      "BOOKS_AND_REFERENCE : 2.14\n",
      "DATING : 1.86\n",
      "VIDEO_PLAYERS : 1.79\n",
      "MAPS_AND_NAVIGATION : 1.4\n",
      "FOOD_AND_DRINK : 1.24\n",
      "EDUCATION : 1.16\n",
      "ENTERTAINMENT : 0.96\n",
      "LIBRARIES_AND_DEMO : 0.94\n",
      "AUTO_AND_VEHICLES : 0.93\n",
      "HOUSE_AND_HOME : 0.82\n",
      "WEATHER : 0.8\n",
      "EVENTS : 0.71\n",
      "PARENTING : 0.65\n",
      "ART_AND_DESIGN : 0.64\n",
      "COMICS : 0.62\n",
      "BEAUTY : 0.6\n"
     ]
    }
   ],
   "source": [
    "#Understanding the Category in Android\n",
    "display_table(android_free,1)"
   ]
  },
  {
   "cell_type": "markdown",
   "metadata": {},
   "source": [
    "While Analyzing the free English Apps on Android store, here are some of the most interesting insights:\n",
    "* Family is the most common Category with ~19% share.\n",
    "* The next most common genre is Game which has 9.73% share.\n",
    "* Most common app profiles on Android store are Family, Game, tools, business  which means Android store has a good mix of apps for fun and practical purposes. But that can't be proved unless we come to know which apps fall under Family Category, it might be a case where there are a lot of games under Family Category."
   ]
  },
  {
   "cell_type": "code",
   "execution_count": 80,
   "metadata": {},
   "outputs": [
    {
     "name": "stdout",
     "output_type": "stream",
     "text": [
      "Tools : 8.45\n",
      "Entertainment : 6.07\n",
      "Education : 5.35\n",
      "Business : 4.59\n",
      "Productivity : 3.89\n",
      "Lifestyle : 3.89\n",
      "Finance : 3.7\n",
      "Medical : 3.53\n",
      "Sports : 3.46\n",
      "Personalization : 3.32\n",
      "Communication : 3.24\n",
      "Action : 3.1\n",
      "Health & Fitness : 3.08\n",
      "Photography : 2.94\n",
      "News & Magazines : 2.8\n",
      "Social : 2.66\n",
      "Travel & Local : 2.32\n",
      "Shopping : 2.25\n",
      "Books & Reference : 2.14\n",
      "Simulation : 2.04\n",
      "Dating : 1.86\n",
      "Arcade : 1.85\n",
      "Video Players & Editors : 1.77\n",
      "Casual : 1.76\n",
      "Maps & Navigation : 1.4\n",
      "Food & Drink : 1.24\n",
      "Puzzle : 1.13\n",
      "Racing : 0.99\n",
      "Role Playing : 0.94\n",
      "Libraries & Demo : 0.94\n",
      "Auto & Vehicles : 0.93\n",
      "Strategy : 0.9\n",
      "House & Home : 0.82\n",
      "Weather : 0.8\n",
      "Events : 0.71\n",
      "Adventure : 0.68\n",
      "Comics : 0.61\n",
      "Beauty : 0.6\n",
      "Art & Design : 0.6\n",
      "Parenting : 0.5\n",
      "Card : 0.45\n",
      "Casino : 0.43\n",
      "Trivia : 0.42\n",
      "Educational;Education : 0.39\n",
      "Board : 0.38\n",
      "Educational : 0.37\n",
      "Education;Education : 0.34\n",
      "Word : 0.26\n",
      "Casual;Pretend Play : 0.24\n",
      "Music : 0.2\n",
      "Racing;Action & Adventure : 0.17\n",
      "Puzzle;Brain Games : 0.17\n",
      "Entertainment;Music & Video : 0.17\n",
      "Casual;Brain Games : 0.14\n",
      "Casual;Action & Adventure : 0.14\n",
      "Arcade;Action & Adventure : 0.12\n",
      "Action;Action & Adventure : 0.1\n",
      "Educational;Pretend Play : 0.09\n",
      "Simulation;Action & Adventure : 0.08\n",
      "Parenting;Education : 0.08\n",
      "Entertainment;Brain Games : 0.08\n",
      "Board;Brain Games : 0.08\n",
      "Parenting;Music & Video : 0.07\n",
      "Educational;Brain Games : 0.07\n",
      "Casual;Creativity : 0.07\n",
      "Art & Design;Creativity : 0.07\n",
      "Education;Pretend Play : 0.06\n",
      "Role Playing;Pretend Play : 0.05\n",
      "Education;Creativity : 0.05\n",
      "Role Playing;Action & Adventure : 0.03\n",
      "Puzzle;Action & Adventure : 0.03\n",
      "Entertainment;Creativity : 0.03\n",
      "Entertainment;Action & Adventure : 0.03\n",
      "Educational;Creativity : 0.03\n",
      "Educational;Action & Adventure : 0.03\n",
      "Education;Music & Video : 0.03\n",
      "Education;Brain Games : 0.03\n",
      "Education;Action & Adventure : 0.03\n",
      "Adventure;Action & Adventure : 0.03\n",
      "Video Players & Editors;Music & Video : 0.02\n",
      "Sports;Action & Adventure : 0.02\n",
      "Simulation;Pretend Play : 0.02\n",
      "Puzzle;Creativity : 0.02\n",
      "Music;Music & Video : 0.02\n",
      "Entertainment;Pretend Play : 0.02\n",
      "Casual;Education : 0.02\n",
      "Board;Action & Adventure : 0.02\n",
      "Video Players & Editors;Creativity : 0.01\n",
      "Trivia;Education : 0.01\n",
      "Travel & Local;Action & Adventure : 0.01\n",
      "Tools;Education : 0.01\n",
      "Strategy;Education : 0.01\n",
      "Strategy;Creativity : 0.01\n",
      "Strategy;Action & Adventure : 0.01\n",
      "Simulation;Education : 0.01\n",
      "Role Playing;Brain Games : 0.01\n",
      "Racing;Pretend Play : 0.01\n",
      "Puzzle;Education : 0.01\n",
      "Parenting;Brain Games : 0.01\n",
      "Music & Audio;Music & Video : 0.01\n",
      "Lifestyle;Pretend Play : 0.01\n",
      "Lifestyle;Education : 0.01\n",
      "Health & Fitness;Education : 0.01\n",
      "Health & Fitness;Action & Adventure : 0.01\n",
      "Entertainment;Education : 0.01\n",
      "Communication;Creativity : 0.01\n",
      "Comics;Creativity : 0.01\n",
      "Casual;Music & Video : 0.01\n",
      "Card;Action & Adventure : 0.01\n",
      "Books & Reference;Education : 0.01\n",
      "Art & Design;Pretend Play : 0.01\n",
      "Art & Design;Action & Adventure : 0.01\n",
      "Arcade;Pretend Play : 0.01\n",
      "Adventure;Education : 0.01\n"
     ]
    }
   ],
   "source": [
    "#Understanding the Genre in Android free apps\n",
    "display_table(android_free,9)"
   ]
  },
  {
   "cell_type": "markdown",
   "metadata": {},
   "source": [
    "The difference between the Genres and the Category columns is not crystal clear, but one thing we can notice is that the Genres column is much more granular (it has more categories). We're only looking for the bigger picture at the moment, so we'll only work with the Category column moving forward.\n",
    "\n",
    "Up to this point, we found that the App Store is dominated by apps designed for fun, while Google Play shows a more balanced landscape of both practical and for-fun apps. Now we'd like to get an idea about the kind of apps that have most users."
   ]
  },
  {
   "cell_type": "markdown",
   "metadata": {},
   "source": [
    "## Most Popular Apps by Genre on iOS and Android Store "
   ]
  },
  {
   "cell_type": "markdown",
   "metadata": {},
   "source": [
    "We can figure out the most popular apps by genre on both stores by checking the number of app installs. In case of iOS, we dont have information on number of installs so we can use rating_count_tot while android store has installs columns.\n",
    "* ios - Rating_count_tot(Index=5)\n",
    "* Android - Installs (Index=5)"
   ]
  },
  {
   "cell_type": "markdown",
   "metadata": {},
   "source": [
    "Let's start with calculating the average number of user ratings per app genre on the App Store. To do that, we'll need to:\n",
    "\n",
    "* Isolate the apps of each genre.\n",
    "* Sum up the user ratings for the apps of that genre. User Rating Index is 7.\n",
    "* Divide the sum by the number of apps belonging to that genre (not by the total number of apps).\n",
    "\n",
    "Eg. Sum up user rating of Games say that comes out to 100. If total number of apps in Games is 200, avg user rating would be 100/200 = 0.5."
   ]
  },
  {
   "cell_type": "code",
   "execution_count": 83,
   "metadata": {},
   "outputs": [],
   "source": [
    "## Creating  function which generates the frequency table for Genres\n",
    "def freq_table(dataset,index):\n",
    "    dict_count={}\n",
    "    \n",
    "    for row in dataset:\n",
    "        name=row[index]\n",
    "        if name in dict_count:\n",
    "            dict_count[name]+=1\n",
    "        else:\n",
    "            dict_count[name]=1\n",
    "    return dict_count\n",
    "        \n",
    "        "
   ]
  },
  {
   "cell_type": "code",
   "execution_count": 84,
   "metadata": {},
   "outputs": [
    {
     "data": {
      "text/plain": [
       "{'Social Networking': 106,\n",
       " 'Photo & Video': 160,\n",
       " 'Games': 1874,\n",
       " 'Music': 66,\n",
       " 'Reference': 18,\n",
       " 'Health & Fitness': 65,\n",
       " 'Weather': 28,\n",
       " 'Utilities': 81,\n",
       " 'Travel': 40,\n",
       " 'Shopping': 84,\n",
       " 'News': 43,\n",
       " 'Navigation': 6,\n",
       " 'Lifestyle': 51,\n",
       " 'Entertainment': 254,\n",
       " 'Food & Drink': 26,\n",
       " 'Sports': 69,\n",
       " 'Book': 14,\n",
       " 'Finance': 36,\n",
       " 'Education': 118,\n",
       " 'Productivity': 56,\n",
       " 'Business': 17,\n",
       " 'Catalogs': 4,\n",
       " 'Medical': 6}"
      ]
     },
     "execution_count": 84,
     "metadata": {},
     "output_type": "execute_result"
    }
   ],
   "source": [
    "ios_genres=freq_table(ios_free,11)\n",
    "ios_genres"
   ]
  },
  {
   "cell_type": "markdown",
   "metadata": {},
   "source": [
    "For example, if we want to count the average rating for each genre:\n",
    "\n",
    "    App      Genre     Rating_Count_tot    \n",
    "    Game1    Game      100\n",
    "    Game2    Game      50\n",
    "    Game3    Game      150\n",
    "    \n",
    "In this case, Total would be 300 and length of Game genre would be 3. Avg Rating would be 300/3 i.e. 100"
   ]
  },
  {
   "cell_type": "code",
   "execution_count": 88,
   "metadata": {},
   "outputs": [
    {
     "name": "stdout",
     "output_type": "stream",
     "text": [
      "Social Networking : 71548.35\n",
      "Photo & Video : 28441.54\n",
      "Games : 22788.67\n",
      "Music : 57326.53\n",
      "Reference : 74942.11\n",
      "Health & Fitness : 23298.02\n",
      "Weather : 52279.89\n",
      "Utilities : 18684.46\n",
      "Travel : 28243.8\n",
      "Shopping : 26919.69\n",
      "News : 21248.02\n",
      "Navigation : 86090.33\n",
      "Lifestyle : 16485.76\n",
      "Entertainment : 14029.83\n",
      "Food & Drink : 33333.92\n",
      "Sports : 23008.9\n",
      "Book : 39758.5\n",
      "Finance : 31467.94\n",
      "Education : 7003.98\n",
      "Productivity : 21028.41\n",
      "Business : 7491.12\n",
      "Catalogs : 4004.0\n",
      "Medical : 612.0\n"
     ]
    }
   ],
   "source": [
    "# Looping over ios genres\n",
    "for genre in ios_genres:\n",
    "    total = 0 # Sum of User ratings i.e. Number of user ratings i.e ratings count total and not the actual ratings\n",
    "    len_genre = 0 # Number of Apps specific to each genre\n",
    "    for row in ios_free:\n",
    "        genre_app=row[11]\n",
    "        if genre_app == genre:\n",
    "            total+= float(row[5]) # Add User ratings\n",
    "            len_genre+=1\n",
    "    \n",
    "    avg_ratings= round(total/len_genre,2)\n",
    "    print(genre,\":\",avg_ratings) \n",
    "            "
   ]
  },
  {
   "cell_type": "markdown",
   "metadata": {},
   "source": [
    "On average, navigation apps have the highest number of user reviews, but this figure is heavily influenced by Waze and Google Maps, which have close to half a million user reviews together:"
   ]
  },
  {
   "cell_type": "code",
   "execution_count": 93,
   "metadata": {},
   "outputs": [
    {
     "name": "stdout",
     "output_type": "stream",
     "text": [
      "Waze - GPS Navigation, Maps & Real-time Traffic : 345046\n",
      "Google Maps - Navigation & Transit : 154911\n",
      "Geocaching® : 12811\n",
      "CoPilot GPS – Car Navigation & Offline Maps : 3582\n",
      "ImmobilienScout24: Real Estate Search in Germany : 187\n",
      "Railway Route Search : 5\n"
     ]
    }
   ],
   "source": [
    "for row in ios_free:\n",
    "    if row[11] == \"Navigation\":\n",
    "        print(row[1],':',row[5])\n",
    "    "
   ]
  },
  {
   "cell_type": "code",
   "execution_count": 94,
   "metadata": {},
   "outputs": [
    {
     "name": "stdout",
     "output_type": "stream",
     "text": [
      "Bible : 985920\n",
      "Dictionary.com Dictionary & Thesaurus : 200047\n",
      "Dictionary.com Dictionary & Thesaurus for iPad : 54175\n",
      "Google Translate : 26786\n",
      "Muslim Pro: Ramadan 2017 Prayer Times, Azan, Quran : 18418\n",
      "New Furniture Mods - Pocket Wiki & Game Tools for Minecraft PC Edition : 17588\n",
      "Merriam-Webster Dictionary : 16849\n",
      "Night Sky : 12122\n",
      "City Maps for Minecraft PE - The Best Maps for Minecraft Pocket Edition (MCPE) : 8535\n",
      "LUCKY BLOCK MOD ™ for Minecraft PC Edition - The Best Pocket Wiki & Mods Installer Tools : 4693\n",
      "GUNS MODS for Minecraft PC Edition - Mods Tools : 1497\n",
      "Guides for Pokémon GO - Pokemon GO News and Cheats : 826\n",
      "WWDC : 762\n",
      "Horror Maps for Minecraft PE - Download The Scariest Maps for Minecraft Pocket Edition (MCPE) Free : 718\n",
      "VPN Express : 14\n",
      "Real Bike Traffic Rider Virtual Reality Glasses : 8\n",
      "教えて!goo : 0\n",
      "Jishokun-Japanese English Dictionary & Translator : 0\n"
     ]
    }
   ],
   "source": [
    "for row in ios_free:\n",
    "    if row[11] == \"Reference\":\n",
    "        print(row[1],':',row[5])\n",
    "    "
   ]
  },
  {
   "cell_type": "markdown",
   "metadata": {},
   "source": [
    "We can see a lot of religious and productivity apps under reference genre in ios data which has a lot of ratings. Specially Bible, Dictionary and Google Translate."
   ]
  },
  {
   "cell_type": "markdown",
   "metadata": {},
   "source": [
    "*Facebook and Pinterest heavily influence Social Networking genre. The numbers are very skewed because of heavy usage of few apps.Reference apps have around 74492 user ratings on average but heavily tilted by Bible and Dictionary.com user ratings. However, this niche seems to show some potential. One thing we could do is take another popular book and turn it into an app where we could add different features besides the raw version of the book. This might include daily quotes from the book, an audio version of the book, quizzes about the book, etc. On top of that, we could also embed a dictionary within the app, so users don't need to exit our app to look up words in an external app.\n",
    "This idea seems to fit well with the fact that the App Store is dominated by for-fun apps. This suggests the market might be a bit saturated with for-fun apps, which means a practical app might have more of a chance to stand out among the huge number of apps on the App Store.\n",
    "Other genres that seem popular include weather, book, food and drink, or finance. The book genre seem to overlap a bit with the app idea we described above, but the other genres don't seem too interesting to us:\n",
    "Weather apps — people generally don't spend too much time in-app, and the chances of making profit from in-app adds are low. Also, getting reliable live weather data may require us to connect our apps to non-free APIs.\n",
    "Food and drink — examples here include Starbucks, Dunkin' Donuts, McDonald's, etc. So making a popular food and drink app requires actual cooking and a delivery service, which is outside the scope of our company.\n",
    "Finance apps — these apps involve banking, paying bills, money transfer, etc. Building a finance app requires domain knowledge, and we don't want to hire a finance expert just to build an app.*"
   ]
  },
  {
   "cell_type": "markdown",
   "metadata": {},
   "source": [
    "### Android Store Analysis - Most Popular apps by genre on Google Play"
   ]
  },
  {
   "cell_type": "code",
   "execution_count": 95,
   "metadata": {},
   "outputs": [
    {
     "name": "stdout",
     "output_type": "stream",
     "text": [
      "1,000,000+ : 1394\n",
      "100,000+ : 1024\n",
      "10,000,000+ : 935\n",
      "10,000+ : 904\n",
      "1,000+ : 744\n",
      "100+ : 613\n",
      "5,000,000+ : 605\n",
      "500,000+ : 493\n",
      "50,000+ : 423\n",
      "5,000+ : 400\n",
      "10+ : 314\n",
      "500+ : 288\n",
      "50,000,000+ : 204\n",
      "100,000,000+ : 189\n",
      "50+ : 170\n",
      "5+ : 70\n",
      "1+ : 45\n",
      "500,000,000+ : 24\n",
      "1,000,000,000+ : 20\n",
      "0+ : 4\n"
     ]
    }
   ],
   "source": [
    "## Checking the number of installs\n",
    "display_table(android_free,5) \n",
    "## This shows the installs numbers are not precise enough since its 100+ or\n",
    "## 10000+ etc. We will still consider the numbers as it is such as 100+ \n",
    "## be considered 100 while 10,000+ would be considered 10000. The string\n",
    "## would have to be converted into float (removing commas and + sign)."
   ]
  },
  {
   "cell_type": "code",
   "execution_count": 96,
   "metadata": {},
   "outputs": [
    {
     "name": "stdout",
     "output_type": "stream",
     "text": [
      "100,000plus\n",
      "one00,000+\n",
      "100,000+\n",
      "100,000\n",
      "100,000\n",
      "100000\n"
     ]
    }
   ],
   "source": [
    "## Example ---- To remove characters from strings\n",
    "n_installs = '100,000+'\n",
    "print(n_installs.replace('+','plus'))\n",
    "print(n_installs.replace('1','one'))\n",
    "print(n_installs.replace('&','ampersand')) ## No change\n",
    "\n",
    "## To remove certain characters, we can replace them with the empty string\n",
    "## '':\n",
    "print(n_installs.replace('+',''))\n",
    "n_installs=n_installs.replace('+','')\n",
    "print(n_installs)\n",
    "n_installs=n_installs.replace(',','')\n",
    "print(n_installs)"
   ]
  },
  {
   "cell_type": "code",
   "execution_count": 98,
   "metadata": {},
   "outputs": [
    {
     "data": {
      "text/plain": [
       "{'ART_AND_DESIGN': 57,\n",
       " 'AUTO_AND_VEHICLES': 82,\n",
       " 'BEAUTY': 53,\n",
       " 'BOOKS_AND_REFERENCE': 190,\n",
       " 'BUSINESS': 407,\n",
       " 'COMICS': 55,\n",
       " 'COMMUNICATION': 287,\n",
       " 'DATING': 165,\n",
       " 'EDUCATION': 103,\n",
       " 'ENTERTAINMENT': 85,\n",
       " 'EVENTS': 63,\n",
       " 'FINANCE': 328,\n",
       " 'FOOD_AND_DRINK': 110,\n",
       " 'HEALTH_AND_FITNESS': 273,\n",
       " 'HOUSE_AND_HOME': 73,\n",
       " 'LIBRARIES_AND_DEMO': 83,\n",
       " 'LIFESTYLE': 346,\n",
       " 'GAME': 862,\n",
       " 'FAMILY': 1675,\n",
       " 'MEDICAL': 313,\n",
       " 'SOCIAL': 236,\n",
       " 'SHOPPING': 199,\n",
       " 'PHOTOGRAPHY': 261,\n",
       " 'SPORTS': 301,\n",
       " 'TRAVEL_AND_LOCAL': 207,\n",
       " 'TOOLS': 750,\n",
       " 'PERSONALIZATION': 294,\n",
       " 'PRODUCTIVITY': 345,\n",
       " 'PARENTING': 58,\n",
       " 'WEATHER': 71,\n",
       " 'VIDEO_PLAYERS': 159,\n",
       " 'NEWS_AND_MAGAZINES': 248,\n",
       " 'MAPS_AND_NAVIGATION': 124}"
      ]
     },
     "execution_count": 98,
     "metadata": {},
     "output_type": "execute_result"
    }
   ],
   "source": [
    "category_android = freq_table(android_free,1)\n",
    "category_android"
   ]
  },
  {
   "cell_type": "code",
   "execution_count": 100,
   "metadata": {},
   "outputs": [
    {
     "name": "stdout",
     "output_type": "stream",
     "text": [
      "ART_AND_DESIGN : 1986335.09\n",
      "AUTO_AND_VEHICLES : 647317.82\n",
      "BEAUTY : 513151.89\n",
      "BOOKS_AND_REFERENCE : 8767811.89\n",
      "BUSINESS : 1712290.15\n",
      "COMICS : 817657.27\n",
      "COMMUNICATION : 38456119.17\n",
      "DATING : 854028.83\n",
      "EDUCATION : 1833495.15\n",
      "ENTERTAINMENT : 11640705.88\n",
      "EVENTS : 253542.22\n",
      "FINANCE : 1387692.48\n",
      "FOOD_AND_DRINK : 1924897.74\n",
      "HEALTH_AND_FITNESS : 4188821.99\n",
      "HOUSE_AND_HOME : 1331540.56\n",
      "LIBRARIES_AND_DEMO : 638503.73\n",
      "LIFESTYLE : 1437816.27\n",
      "GAME : 15588015.6\n",
      "FAMILY : 3697848.17\n",
      "MEDICAL : 120550.62\n",
      "SOCIAL : 23253652.13\n",
      "SHOPPING : 7036877.31\n",
      "PHOTOGRAPHY : 17840110.4\n",
      "SPORTS : 3638640.14\n",
      "TRAVEL_AND_LOCAL : 13984077.71\n",
      "TOOLS : 10801391.3\n",
      "PERSONALIZATION : 5201482.61\n",
      "PRODUCTIVITY : 16787331.34\n",
      "PARENTING : 542603.62\n",
      "WEATHER : 5074486.2\n",
      "VIDEO_PLAYERS : 24727872.45\n",
      "NEWS_AND_MAGAZINES : 9549178.47\n",
      "MAPS_AND_NAVIGATION : 4056941.77\n"
     ]
    }
   ],
   "source": [
    "## Loop over unique categories\n",
    "for category in category_android:\n",
    "    total=0 ## To count the total of each category\n",
    "    len_category=0 ## To count the number of apps in each category\n",
    "    for app in android_free:\n",
    "        category_app=app[1]\n",
    "        if category_app == category:\n",
    "            n_installs=app[5]\n",
    "            n_installs=n_installs.replace('+','')\n",
    "            n_installs=n_installs.replace(',','')\n",
    "            n_install_float=float(n_installs)\n",
    "            total+=n_install_float\n",
    "            len_category+=1\n",
    "    ## Calculate the average number of installs\n",
    "    avg_installs=round(total/len_category,2)\n",
    "    print(category,':',avg_installs)\n",
    "    "
   ]
  },
  {
   "cell_type": "markdown",
   "metadata": {},
   "source": [
    "*On average, communication apps have the most installs: 38,456,119. This number is heavily skewed up by a few apps that have over one billion installs (WhatsApp, Facebook Messenger, Skype, Google Chrome, Gmail, and Hangouts), and a few others with over 100 and 500 million installs:*"
   ]
  },
  {
   "cell_type": "code",
   "execution_count": 102,
   "metadata": {},
   "outputs": [
    {
     "name": "stdout",
     "output_type": "stream",
     "text": [
      "WhatsApp Messenger : 1,000,000,000+\n",
      "imo beta free calls and text : 100,000,000+\n",
      "Android Messages : 100,000,000+\n",
      "Google Duo - High Quality Video Calls : 500,000,000+\n",
      "Messenger – Text and Video Chat for Free : 1,000,000,000+\n",
      "imo free video calls and chat : 500,000,000+\n",
      "Skype - free IM & video calls : 1,000,000,000+\n",
      "Who : 100,000,000+\n",
      "GO SMS Pro - Messenger, Free Themes, Emoji : 100,000,000+\n",
      "LINE: Free Calls & Messages : 500,000,000+\n",
      "Google Chrome: Fast & Secure : 1,000,000,000+\n",
      "Firefox Browser fast & private : 100,000,000+\n",
      "UC Browser - Fast Download Private & Secure : 500,000,000+\n",
      "Gmail : 1,000,000,000+\n",
      "Hangouts : 1,000,000,000+\n",
      "Messenger Lite: Free Calls & Messages : 100,000,000+\n",
      "Kik : 100,000,000+\n",
      "KakaoTalk: Free Calls & Text : 100,000,000+\n",
      "Opera Mini - fast web browser : 100,000,000+\n",
      "Opera Browser: Fast and Secure : 100,000,000+\n",
      "Telegram : 100,000,000+\n",
      "Truecaller: Caller ID, SMS spam blocking & Dialer : 100,000,000+\n",
      "UC Browser Mini -Tiny Fast Private & Secure : 100,000,000+\n",
      "Viber Messenger : 500,000,000+\n",
      "WeChat : 100,000,000+\n",
      "Yahoo Mail – Stay Organized : 100,000,000+\n",
      "BBM - Free Calls & Messages : 100,000,000+\n"
     ]
    }
   ],
   "source": [
    "## To check all the apps with > 100m installs\n",
    "for app in android_free:\n",
    "    if app[1] == 'COMMUNICATION' and (app[5]=='1,000,000,000+' or\n",
    "                                      app[5]=='500,000,000+' or\n",
    "                                      app[5]=='100,000,000+'):\n",
    "        print(app[0],':',app[5])"
   ]
  },
  {
   "cell_type": "code",
   "execution_count": 105,
   "metadata": {},
   "outputs": [
    {
     "name": "stdout",
     "output_type": "stream",
     "text": [
      "Avg under 100M: 3603485.3884615386\n"
     ]
    }
   ],
   "source": [
    "## To check the average installs of all the apps if >100m apps are removed in Communication Category\n",
    "under_100M=[]\n",
    "\n",
    "for app in android_free:\n",
    "    n_installs=app[5]\n",
    "    n_installs=n_installs.replace('+','')\n",
    "    n_installs=n_installs.replace(',','')\n",
    "    n_installs_float=float(n_installs)\n",
    "    if app[1]=='COMMUNICATION' and n_installs_float<100000000:\n",
    "        under_100M.append(n_installs_float)\n",
    "\n",
    "print('Avg under 100M:', sum(under_100M)/len(under_100M))"
   ]
  },
  {
   "cell_type": "markdown",
   "metadata": {},
   "source": [
    "*This average is 10 times less than the original average for communication apps which is 38456119*\n",
    "\n",
    "*We see the same pattern for the video players category, which is the runner-up with 24,727,872 installs. The market is dominated by apps like Youtube, Google Play Movies & TV, or MX Player. The pattern is repeated for social apps (where we have giants like Facebook, Instagram, Google+, etc.), photography apps (Google Photos and other popular photo editors), or productivity apps (Microsoft Word, Dropbox, Google Calendar, Evernote, etc.).*\n",
    "\n",
    "*Again, the main concern is that these app genres might seem more popular than they really are. Moreover, these niches seem to be dominated by a few giants who are hard to compete against.*\n",
    "\n",
    "*The game genre seems pretty popular, but previously we found out this part of the market seems a bit saturated, so we'd like to come up with a different app recommendation if possible.*\n",
    "\n",
    "*The books and reference genre looks fairly popular as well, with an average number of installs of 8,767,811. It's interesting to explore this in more depth, since we found this genre has some potential to work well on the App Store, and our aim is to recommend an app genre that shows potential for being profitable on both the App Store and Google Play.*"
   ]
  },
  {
   "cell_type": "code",
   "execution_count": 106,
   "metadata": {},
   "outputs": [
    {
     "name": "stdout",
     "output_type": "stream",
     "text": [
      "Wikipedia : 10,000,000+\n",
      "Cool Reader : 10,000,000+\n",
      "Book store : 1,000,000+\n",
      "FBReader: Favorite Book Reader : 10,000,000+\n",
      "Free Books - Spirit Fanfiction and Stories : 1,000,000+\n",
      "AlReader -any text book reader : 5,000,000+\n",
      "FamilySearch Tree : 1,000,000+\n",
      "Cloud of Books : 1,000,000+\n",
      "ReadEra – free ebook reader : 1,000,000+\n",
      "Ebook Reader : 5,000,000+\n",
      "Read books online : 5,000,000+\n",
      "eBoox: book reader fb2 epub zip : 1,000,000+\n",
      "All Maths Formulas : 1,000,000+\n",
      "Ancestry : 5,000,000+\n",
      "HTC Help : 10,000,000+\n",
      "Moon+ Reader : 10,000,000+\n",
      "English-Myanmar Dictionary : 1,000,000+\n",
      "Golden Dictionary (EN-AR) : 1,000,000+\n",
      "All Language Translator Free : 1,000,000+\n",
      "Aldiko Book Reader : 10,000,000+\n",
      "Dictionary - WordWeb : 5,000,000+\n",
      "50000 Free eBooks & Free AudioBooks : 5,000,000+\n",
      "Al-Quran (Free) : 10,000,000+\n",
      "Al Quran Indonesia : 10,000,000+\n",
      "Al'Quran Bahasa Indonesia : 10,000,000+\n",
      "Al Quran Al karim : 1,000,000+\n",
      "Al Quran : EAlim - Translations & MP3 Offline : 5,000,000+\n",
      "Koran Read &MP3 30 Juz Offline : 1,000,000+\n",
      "Hafizi Quran 15 lines per page : 1,000,000+\n",
      "Quran for Android : 10,000,000+\n",
      "Satellite AR : 1,000,000+\n",
      "Oxford A-Z of English Usage : 1,000,000+\n",
      "Dictionary.com: Find Definitions for English Words : 10,000,000+\n",
      "English Dictionary - Offline : 10,000,000+\n",
      "Bible KJV : 5,000,000+\n",
      "NOOK: Read eBooks & Magazines : 10,000,000+\n",
      "Brilliant Quotes: Life, Love, Family & Motivation : 1,000,000+\n",
      "Stats Royale for Clash Royale : 1,000,000+\n",
      "Dictionary : 10,000,000+\n",
      "wikiHow: how to do anything : 1,000,000+\n",
      "EGW Writings : 1,000,000+\n",
      "My Little Pony AR Guide : 1,000,000+\n",
      "Spanish English Translator : 10,000,000+\n",
      "Dictionary - Merriam-Webster : 10,000,000+\n",
      "JW Library : 10,000,000+\n",
      "Oxford Dictionary of English : Free : 10,000,000+\n",
      "English Hindi Dictionary : 10,000,000+\n",
      "English to Hindi Dictionary : 5,000,000+\n"
     ]
    }
   ],
   "source": [
    "for app in android_free:\n",
    "    if app[1] == 'BOOKS_AND_REFERENCE' and (app[5] == '1,000,000+'\n",
    "                                            or app[5] == '5,000,000+'\n",
    "                                            or app[5] == '10,000,000+'\n",
    "                                            or app[5] == '50,000,000+'):\n",
    "        print(app[0], ':', app[5])"
   ]
  },
  {
   "cell_type": "markdown",
   "metadata": {},
   "source": [
    "*This niche seems to be dominated by software for processing and reading ebooks, as well as various collections of libraries and dictionaries, so it's probably not a good idea to build similar apps since there'll be some significant competition.*\n",
    "\n",
    "*We also notice there are quite a few apps built around the book Quran, which suggests that building an app around a popular book can be profitable. It seems that taking a popular book (perhaps a more recent book) and turning it into an app could be profitable for both the Google Play and the App Store markets.*\n",
    "\n",
    "*However, it looks like the market is already full of libraries, so we need to add some special features besides the raw version of the book. This might include daily quotes from the book, an audio version of the book, quizzes on the book, a forum where people can discuss the book, etc.*"
   ]
  },
  {
   "cell_type": "markdown",
   "metadata": {},
   "source": [
    "## CONCLUSION"
   ]
  },
  {
   "cell_type": "markdown",
   "metadata": {},
   "source": [
    "*The market in both Google Play Store and Apple Store is influenced by top apps in major categories which are hard to compete against. The books and reference categories or genre though on both stores seems to have a lot of opportunity. If a raw book can be converted into an app,  with audio version, quizzes, forum for people, that app could become successful.*"
   ]
  }
 ],
 "metadata": {
  "kernelspec": {
   "display_name": "Python 3",
   "language": "python",
   "name": "python3"
  },
  "language_info": {
   "codemirror_mode": {
    "name": "ipython",
    "version": 3
   },
   "file_extension": ".py",
   "mimetype": "text/x-python",
   "name": "python",
   "nbconvert_exporter": "python",
   "pygments_lexer": "ipython3",
   "version": "3.7.3"
  }
 },
 "nbformat": 4,
 "nbformat_minor": 2
}
